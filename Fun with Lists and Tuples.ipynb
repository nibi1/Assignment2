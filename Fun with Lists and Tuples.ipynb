{
 "cells": [
  {
   "cell_type": "markdown",
   "id": "5b99f878",
   "metadata": {},
   "source": [
    "Write a Python program to get a list, sorted in increasing order by the last element in each tuple from a given list of non-empty tuples\n",
    "\n",
    "\n",
    "\n",
    "Sample List : [(2, 5), (1, 2), (4, 4), (2, 3), (2, 1)]\n",
    "\n",
    "Expected Result : [(2, 1), (1, 2), (2, 3), (4, 4), (2, 5)]"
   ]
  },
  {
   "cell_type": "code",
   "execution_count": 6,
   "id": "bb5e22b2",
   "metadata": {},
   "outputs": [
    {
     "name": "stdout",
     "output_type": "stream",
     "text": [
      "[(2, 1), (1, 2), (2, 3), (4, 4), (2, 5)]\n"
     ]
    }
   ],
   "source": [
    "l1 = [(2, 5), (1, 2), (4, 4), (2, 3), (2, 1)]\n",
    "for i in range(len(l1)):\n",
    "    for j in range(len(l1)):\n",
    "        if l1[i][1] < l1[j][1]:\n",
    "            temp = l1[i]\n",
    "            l1[i] = l1[j]\n",
    "            l1[j] = temp\n",
    "print(l1)\n"
   ]
  },
  {
   "cell_type": "code",
   "execution_count": 7,
   "id": "abaeeadb",
   "metadata": {},
   "outputs": [
    {
     "name": "stdout",
     "output_type": "stream",
     "text": [
      "[(2, 1), (1, 2), (2, 3), (4, 4), (2, 5)]\n"
     ]
    }
   ],
   "source": [
    "l1 = [(2, 5), (1, 2), (4, 4), (2, 3), (2, 1)]\n",
    "l1.sort(key = lambda j:j[1])\n",
    "print(l1)"
   ]
  }
 ],
 "metadata": {
  "kernelspec": {
   "display_name": "Python 3 (ipykernel)",
   "language": "python",
   "name": "python3"
  },
  "language_info": {
   "codemirror_mode": {
    "name": "ipython",
    "version": 3
   },
   "file_extension": ".py",
   "mimetype": "text/x-python",
   "name": "python",
   "nbconvert_exporter": "python",
   "pygments_lexer": "ipython3",
   "version": "3.9.7"
  }
 },
 "nbformat": 4,
 "nbformat_minor": 5
}
